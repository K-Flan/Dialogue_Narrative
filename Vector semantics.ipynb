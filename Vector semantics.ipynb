{
 "cells": [
  {
   "cell_type": "code",
   "execution_count": null,
   "metadata": {},
   "outputs": [],
   "source": [
    "import numpy as np\n",
    "from vector_semantics import TDMatrix, TF_IDF_Matrix, WordMatrix\n",
    "from itertools import chain"
   ]
  },
  {
   "cell_type": "code",
   "execution_count": null,
   "metadata": {},
   "outputs": [],
   "source": [
    "documents = [[\"have\", \"a\", \"wonderful\", \"terrific\", \"and\", \"brilliant\", \"day\"],\n",
    "             [\"have\", \"a\", \"terrible\", \"awful\", \"and\", \"horrible\", \"day\"]]\n",
    "\n",
    "doc_names = [\"positive\",\"negative\"]"
   ]
  },
  {
   "cell_type": "code",
   "execution_count": null,
   "metadata": {},
   "outputs": [],
   "source": [
    "term_doc = TDMatrix(documents,doc_names)\n",
    "term_doc_matrix = term_doc.term_document_matrix()\n",
    "term_doc_matrix"
   ]
  },
  {
   "cell_type": "code",
   "execution_count": null,
   "metadata": {},
   "outputs": [],
   "source": [
    "tf_idf = TF_IDF_Matrix(documents,doc_names)\n",
    "tf_idf_matrix = tf_idf.tf_idf_matrix()\n",
    "tf_idf_matrix = tf_idf_matrix.round(3)\n",
    "tf_idf_matrix"
   ]
  },
  {
   "cell_type": "code",
   "execution_count": null,
   "metadata": {},
   "outputs": [],
   "source": [
    "word = WordMatrix(documents[0],doc_names[0], 6)\n",
    "word_mat = word.word_matrix()\n",
    "word_mat"
   ]
  },
  {
   "cell_type": "markdown",
   "metadata": {},
   "source": [
    "## Calculate cosine similarities"
   ]
  },
  {
   "cell_type": "code",
   "execution_count": null,
   "metadata": {},
   "outputs": [],
   "source": [
    "arr = term_doc_matrix.to_numpy()\n",
    "\n",
    "pos = arr[:,0]\n",
    "neg = arr[:,1]\n",
    "\n",
    "cos_sim = sum(pos*neg)/(len(pos)*len(neg))\n",
    "\n",
    "print(cos_sim)"
   ]
  },
  {
   "cell_type": "code",
   "execution_count": null,
   "metadata": {},
   "outputs": [],
   "source": [
    "arr_tf_idf = tf_idf_matrix.to_numpy()\n",
    "\n",
    "pos_tf_idf = arr_tf_idf[:,0]\n",
    "neg_tf_idf = arr_tf_idf[:,1]\n",
    "\n",
    "cos_sim = sum(pos_tf_idf*neg_tf_idf)/(len(pos_tf_idf)*len(neg_tf_idf))\n",
    "\n",
    "print(cos_sim)"
   ]
  },
  {
   "cell_type": "code",
   "execution_count": null,
   "metadata": {},
   "outputs": [],
   "source": []
  },
  {
   "cell_type": "code",
   "execution_count": null,
   "metadata": {},
   "outputs": [],
   "source": []
  }
 ],
 "metadata": {
  "kernelspec": {
   "display_name": "Python 3",
   "language": "python",
   "name": "python3"
  },
  "language_info": {
   "codemirror_mode": {
    "name": "ipython",
    "version": 3
   },
   "file_extension": ".py",
   "mimetype": "text/x-python",
   "name": "python",
   "nbconvert_exporter": "python",
   "pygments_lexer": "ipython3",
   "version": "3.8.3"
  }
 },
 "nbformat": 4,
 "nbformat_minor": 4
}
